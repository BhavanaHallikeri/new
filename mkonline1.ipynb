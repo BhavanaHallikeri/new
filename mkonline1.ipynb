{
 "cells": [
  {
   "cell_type": "code",
   "execution_count": null,
   "id": "8cd3f043",
   "metadata": {},
   "outputs": [],
   "source": [
    "def ctof(C):\n",
    "    F = (C * 9/5) + 32\n",
    "    return int(F)\n",
    "c=int((input('Enter temp in C to convert into F ')))\n",
    "f=ctof(c)\n",
    "print(f)"
   ]
  },
  {
   "cell_type": "code",
   "execution_count": null,
   "id": "001121dd",
   "metadata": {},
   "outputs": [],
   "source": [
    "a=\"Happy\"\n",
    "i=\"a\"\n",
    "while i in a:\n",
    "    print(\"hdg"
   ]
  },
  {
   "cell_type": "code",
   "execution_count": 5,
   "id": "a9552ab3",
   "metadata": {},
   "outputs": [
    {
     "name": "stdout",
     "output_type": "stream",
     "text": [
      "Enter frist name Bhavana\n",
      "Enetr last name Hallikeri\n",
      "evening or morning evening\n",
      "Hello B Hallikeri, good evening\n"
     ]
    }
   ],
   "source": [
    "fn=input('Enter frist name ')\n",
    "ln=input('Enetr last name ')\n",
    "time=input(\"evening or morning \")\n",
    "print(f\"Hello {fn[0]} {ln}, good {time}\")"
   ]
  },
  {
   "cell_type": "code",
   "execution_count": 6,
   "id": "0adbd1b2",
   "metadata": {},
   "outputs": [
    {
     "name": "stdout",
     "output_type": "stream",
     "text": [
      "Enter sentence: today is thursday\n",
      "Entr starting index: 2\n",
      "Enter ending index: 8\n",
      "{'day is'}\n"
     ]
    }
   ],
   "source": [
    "s = input(\"Enter sentence: \")\n",
    "si= int(input(\"Entr starting index: \"))\n",
    "ei= int(input(\"Enter ending index: \"))\n",
    "print({s[si:ei]})"
   ]
  },
  {
   "cell_type": "code",
   "execution_count": 18,
   "id": "26abe08e",
   "metadata": {
    "scrolled": true
   },
   "outputs": [
    {
     "name": "stdout",
     "output_type": "stream",
     "text": [
      "Enter a sentence: hello this is bhavana\n",
      "Enter word to replace: this\n",
      "Enter word to replace with: that\n",
      "hello that is bhavana\n"
     ]
    }
   ],
   "source": [
    "s= input(\"Enter a sentence: \")\n",
    "fw= input(\"Enter word to replace: \")\n",
    "sw= input(\"Enter word to replace with: \")\n",
    "i= s.find(fw)\n",
    "if i!= -1:\n",
    "    ns=s[:i] + sw + s[i + len(fw):]\n",
    "else:\n",
    "    ns=sentence\n",
    "print(ns)"
   ]
  },
  {
   "cell_type": "code",
   "execution_count": 15,
   "id": "b68e3cd8",
   "metadata": {},
   "outputs": [
    {
     "name": "stdout",
     "output_type": "stream",
     "text": [
      "Enetr a string Bhavana\n",
      "havan\n"
     ]
    }
   ],
   "source": [
    "stri=input(\"Enetr a string \")\n",
    "print(stri[1:(len(stri)-1)])"
   ]
  },
  {
   "cell_type": "code",
   "execution_count": 1,
   "id": "ed0f8b58",
   "metadata": {},
   "outputs": [],
   "source": [
    "if True and False:\n",
    "    print('jh')\n",
    "    "
   ]
  },
  {
   "cell_type": "code",
   "execution_count": null,
   "id": "05d01e88",
   "metadata": {},
   "outputs": [],
   "source": []
  }
 ],
 "metadata": {
  "kernelspec": {
   "display_name": "Python 3 (ipykernel)",
   "language": "python",
   "name": "python3"
  },
  "language_info": {
   "codemirror_mode": {
    "name": "ipython",
    "version": 3
   },
   "file_extension": ".py",
   "mimetype": "text/x-python",
   "name": "python",
   "nbconvert_exporter": "python",
   "pygments_lexer": "ipython3",
   "version": "3.11.3"
  }
 },
 "nbformat": 4,
 "nbformat_minor": 5
}
